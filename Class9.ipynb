{
  "nbformat": 4,
  "nbformat_minor": 0,
  "metadata": {
    "colab": {
      "provenance": [],
      "gpuType": "T4",
      "authorship_tag": "ABX9TyOlk7mcELOFEwLXj+o2gznw",
      "include_colab_link": true
    },
    "kernelspec": {
      "name": "python3",
      "display_name": "Python 3"
    },
    "language_info": {
      "name": "python"
    },
    "accelerator": "GPU"
  },
  "cells": [
    {
      "cell_type": "markdown",
      "metadata": {
        "id": "view-in-github",
        "colab_type": "text"
      },
      "source": [
        "<a href=\"https://colab.research.google.com/github/junkyuhufs/Class2024Spring/blob/main/Class9.ipynb\" target=\"_parent\"><img src=\"https://colab.research.google.com/assets/colab-badge.svg\" alt=\"Open In Colab\"/></a>"
      ]
    },
    {
      "cell_type": "markdown",
      "source": [
        "# REST API 사용 (데이터 포맷: JSON)\n",
        "# requests package\n",
        "\n",
        "by courtesy of Dr. Hosung Nam"
      ],
      "metadata": {
        "id": "VhVtUF-XSXtp"
      }
    },
    {
      "cell_type": "markdown",
      "source": [
        "[공공데이터포털](https://data.go.kr)"
      ],
      "metadata": {
        "id": "qr0cXzLJXotN"
      }
    },
    {
      "cell_type": "code",
      "source": [
        "import requests"
      ],
      "metadata": {
        "id": "rlIVRe3tC6sL"
      },
      "execution_count": 1,
      "outputs": []
    },
    {
      "cell_type": "markdown",
      "source": [
        "[한국환경공단_미세먼지_경보발령](https://www.data.go.kr/data/15073885/openapi.do)"
      ],
      "metadata": {
        "id": "XE9yw77UcIj_"
      }
    },
    {
      "cell_type": "markdown",
      "source": [
        "## 서울시의 미세먼지 정보 받기"
      ],
      "metadata": {
        "id": "AVL2QkuypHJK"
      }
    },
    {
      "cell_type": "code",
      "source": [
        "URL = ('http://apis.data.go.kr/B552584/ArpltnStatsSvc/'\n",
        "      'getCtprvnMesureSidoLIst?'\n",
        "      'sidoName=서울'\n",
        "      '&searchCondition=hour'\n",
        "      '&pageNo=1'\n",
        "      '&numOfRows=100'\n",
        "      '&returnType=json'\n",
        "      '&serviceKey=miH%2BZXg85lQy4%2FkmhffvygXDIFiTwisriSLxtyECSzw6hxTVK7yI8QKIOc7mP7LEqCnhBGuj6iW1gZW65dum7A%3D%3D')\n",
        "response = requests.get(URL)"
      ],
      "metadata": {
        "id": "te_F-LHCDGsD"
      },
      "execution_count": 2,
      "outputs": []
    },
    {
      "cell_type": "markdown",
      "source": [
        "json으로 담긴 내용 확인"
      ],
      "metadata": {
        "id": "IaUXW9sngVBO"
      }
    },
    {
      "cell_type": "code",
      "source": [
        "r = response.json()\n",
        "r"
      ],
      "metadata": {
        "id": "ZRmjl1tVDrM9"
      },
      "execution_count": null,
      "outputs": []
    },
    {
      "cell_type": "code",
      "source": [
        "type(r)"
      ],
      "metadata": {
        "id": "EBR739TEnqTg"
      },
      "execution_count": null,
      "outputs": []
    },
    {
      "cell_type": "markdown",
      "source": [
        "[jason viewer](https://jsonviewer.stack.hu/) (copy json here to view json)"
      ],
      "metadata": {
        "id": "rY9Gm39CDQ8E"
      }
    },
    {
      "cell_type": "code",
      "source": [
        "items = r['response']['body']['items'] # Jason viewer 확인 후 필요한 내용만 담기\n",
        "items[0]  # 첫번째 리스트 확인"
      ],
      "metadata": {
        "id": "1B_xY85SnxQG"
      },
      "execution_count": null,
      "outputs": []
    },
    {
      "cell_type": "markdown",
      "source": [
        "Pandas 이용하여 data frame 형태로 변환"
      ],
      "metadata": {
        "id": "Up4XY6EloZQn"
      }
    },
    {
      "cell_type": "code",
      "source": [
        "import pandas as pd"
      ],
      "metadata": {
        "id": "tke_abhAogr_"
      },
      "execution_count": 6,
      "outputs": []
    },
    {
      "cell_type": "code",
      "source": [
        "items = r['response']['body']['items']\n",
        "\n",
        "cityName = [item['cityName'] for item in items] #list comprehension\n",
        "pm10Value = [item['pm10Value'] for item in items] #items에 담긴 것을 item으로 반복\n",
        "pm25Value = [item['pm25Value'] for item in items]\n",
        "so2Value = [item['so2Value'] for item in items]\n",
        "coValue = [item['coValue'] for item in items]\n",
        "o3Value = [item['o3Value'] for item in items]\n",
        "no2Value = [item['no2Value'] for item in items]\n",
        "\n",
        "cityName = pd.Series(cityName)\n",
        "pm10Value = pd.Series(pm10Value)\n",
        "pm25Value = pd.Series(pm25Value)\n",
        "so2Value = pd.Series(so2Value)\n",
        "coValue = pd.Series(coValue)\n",
        "o3Value = pd.Series(o3Value)\n",
        "no2Value = pd.Series(no2Value)\n",
        "\n",
        "df = pd.DataFrame({ 'cityName': cityName, 'pm10Value': pm10Value, 'pm25Value': pm25Value, 'so2Value': so2Value, 'coValue': coValue, 'o3Value': o3Value, 'no2Value': no2Value})"
      ],
      "metadata": {
        "id": "0WOvEGrXD0z8"
      },
      "execution_count": 7,
      "outputs": []
    },
    {
      "cell_type": "code",
      "source": [
        "df"
      ],
      "metadata": {
        "id": "g-TKJLG4ZCdX"
      },
      "execution_count": null,
      "outputs": []
    },
    {
      "cell_type": "markdown",
      "source": [
        "# Gradio intro"
      ],
      "metadata": {
        "id": "layv4zI2Q-3h"
      }
    },
    {
      "cell_type": "markdown",
      "source": [
        "[Gradio home](https://gradio.app/)"
      ],
      "metadata": {
        "id": "FcrHEI7RqnK-"
      }
    },
    {
      "cell_type": "code",
      "execution_count": 9,
      "metadata": {
        "id": "QXfkjywqQuWt"
      },
      "outputs": [],
      "source": [
        "def sum(a, b):\n",
        "\n",
        "  c = int(a + b)\n",
        "  c = '정답은 ' + str(c) + '입니다'\n",
        "  return c"
      ]
    },
    {
      "cell_type": "code",
      "source": [
        "sum(2,3)"
      ],
      "metadata": {
        "id": "9L30cmHgRFFI"
      },
      "execution_count": null,
      "outputs": []
    },
    {
      "cell_type": "code",
      "source": [
        "!pip install gradio"
      ],
      "metadata": {
        "id": "tcYlFvVWRINu"
      },
      "execution_count": null,
      "outputs": []
    },
    {
      "cell_type": "code",
      "source": [
        "import gradio as gr"
      ],
      "metadata": {
        "id": "EH5sagQ6RLc-"
      },
      "execution_count": 12,
      "outputs": []
    },
    {
      "cell_type": "code",
      "source": [
        "iface = gr.Interface(sum, inputs = [\"number\", \"number\"], outputs = [\"text\"])\n",
        "iface.launch()"
      ],
      "metadata": {
        "id": "mnDI7tpgROL-"
      },
      "execution_count": null,
      "outputs": []
    },
    {
      "cell_type": "code",
      "source": [
        "# Create interface with components\n",
        "iface = gr.Interface(\n",
        "  fn=sum,\n",
        "  inputs=[gr.components.Number(label=\"input1\"), gr.components.Number(label=\"input2\")],\n",
        "  outputs=gr.components.Textbox(label=\"answer\")\n",
        ")\n",
        "\n",
        "# Launch the interface\n",
        "iface.launch()"
      ],
      "metadata": {
        "id": "YMvRAJVuXuq7"
      },
      "execution_count": null,
      "outputs": []
    },
    {
      "cell_type": "markdown",
      "source": [
        "# Requests & Gradio (미세먼지)\n",
        "## 시도전체의 미세먼지 app\n"
      ],
      "metadata": {
        "id": "vhf8SlpYG6-E"
      }
    },
    {
      "cell_type": "code",
      "source": [
        "!pip install gradio\n",
        "import gradio as gr\n",
        "import requests\n",
        "import pandas as pd"
      ],
      "metadata": {
        "id": "fjS2A5ApShUp"
      },
      "execution_count": null,
      "outputs": []
    },
    {
      "cell_type": "code",
      "source": [
        "def test(sidoName):\n",
        "  URL = ('http://apis.data.go.kr/B552584/ArpltnStatsSvc/'\n",
        "      'getCtprvnMesureSidoLIst?'\n",
        "      'sidoName='+sidoName+\n",
        "      '&searchCondition=hour'\n",
        "      '&pageNo=1'\n",
        "      '&numOfRows=100'\n",
        "      '&returnType=json'\n",
        "      '&serviceKey=miH%2BZXg85lQy4%2FkmhffvygXDIFiTwisriSLxtyECSzw6hxTVK7yI8QKIOc7mP7LEqCnhBGuj6iW1gZW65dum7A%3D%3D')\n",
        "\n",
        "  response = requests.get(URL)\n",
        "  r = response.json()\n",
        "  items = r['response']['body']['items']\n",
        "\n",
        "  cityName = [item['cityName'] for item in items]\n",
        "  pm10Value = [item['pm10Value'] for item in items]\n",
        "  pm25Value = [item['pm25Value'] for item in items]\n",
        "  so2Value = [item['so2Value'] for item in items]\n",
        "  coValue = [item['coValue'] for item in items]\n",
        "  o3Value = [item['o3Value'] for item in items]\n",
        "  no2Value = [item['no2Value'] for item in items]\n",
        "\n",
        "  cityName = pd.Series(cityName)\n",
        "  pm10Value = pd.Series(pm10Value)\n",
        "  pm25Value = pd.Series(pm25Value)\n",
        "  so2Value = pd.Series(so2Value)\n",
        "  coValue = pd.Series(coValue)\n",
        "  o3Value = pd.Series(o3Value)\n",
        "  no2Value = pd.Series(no2Value)\n",
        "\n",
        "  df = pd.DataFrame({ 'cityName': cityName, 'pm10Value': pm10Value, 'pm25Value': pm25Value, 'so2Value': so2Value, 'coValue': coValue, 'o3Value': o3Value, 'no2Value': no2Value})\n",
        "  return df"
      ],
      "metadata": {
        "id": "iG9hkIiHTMk7"
      },
      "execution_count": 17,
      "outputs": []
    },
    {
      "cell_type": "code",
      "source": [
        "# Create the interface with components\n",
        "iface = gr.Interface(\n",
        "    fn=test,\n",
        "    inputs=[gr.Dropdown(label=\"City\", choices=[\"서울\", \"부산\", \"대구\", \"인천\", \"광주\", \"대전\", \"울산\", \"경기\", \"강원\", \"충북\", \"충남\", \"전북\", \"전남\", \"경북\", \"경남\", \"제주\", \"세종\"])],\n",
        "    outputs=[gr.Dataframe(label=\"Dataframe\")]\n",
        ")\n",
        "\n",
        "# Launch the interface\n",
        "iface.launch(debug=True)"
      ],
      "metadata": {
        "id": "Kg-9_oAbWWZy"
      },
      "execution_count": null,
      "outputs": []
    }
  ]
}