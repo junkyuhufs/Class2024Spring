{
  "nbformat": 4,
  "nbformat_minor": 0,
  "metadata": {
    "colab": {
      "provenance": [],
      "authorship_tag": "ABX9TyO711IKP9PKY2+vV1IhaQi2",
      "include_colab_link": true
    },
    "kernelspec": {
      "name": "python3",
      "display_name": "Python 3"
    },
    "language_info": {
      "name": "python"
    }
  },
  "cells": [
    {
      "cell_type": "markdown",
      "metadata": {
        "id": "view-in-github",
        "colab_type": "text"
      },
      "source": [
        "<a href=\"https://colab.research.google.com/github/junkyuhufs/Class2024Spring/blob/main/Class3_Packages.ipynb\" target=\"_parent\"><img src=\"https://colab.research.google.com/assets/colab-badge.svg\" alt=\"Open In Colab\"/></a>"
      ]
    },
    {
      "cell_type": "markdown",
      "source": [
        "#numpy & matplotlib packages"
      ],
      "metadata": {
        "id": "uEcQbN08UA_l"
      }
    },
    {
      "cell_type": "markdown",
      "source": [
        "by virtue of Dr. Hosung Nam (Korea Univ.)"
      ],
      "metadata": {
        "id": "_ookctqph7p9"
      }
    },
    {
      "cell_type": "markdown",
      "source": [
        "##create nd arrays (≈matrices);  nd = n-dimensional"
      ],
      "metadata": {
        "id": "-jMdozTuUK69"
      }
    },
    {
      "cell_type": "code",
      "source": [
        "import numpy as np"
      ],
      "metadata": {
        "id": "9xquvkiVUKCR"
      },
      "execution_count": null,
      "outputs": []
    },
    {
      "cell_type": "markdown",
      "source": [
        "###1-d array"
      ],
      "metadata": {
        "id": "y_tT2TV2Wssb"
      }
    },
    {
      "cell_type": "markdown",
      "source": [
        "array >> list를 nd-array형태로 변환"
      ],
      "metadata": {
        "id": "qd-ObjwBXKnb"
      }
    },
    {
      "cell_type": "code",
      "execution_count": null,
      "metadata": {
        "id": "wf_865nGT5t8"
      },
      "outputs": [],
      "source": [
        "x = np.array([1,2,3])\n",
        "print(x)\n",
        "print(type(x))\n",
        "print(x.shape)"
      ]
    },
    {
      "cell_type": "markdown",
      "source": [
        "NOT arrange; arange >>> 숫자 3개; 첫 두 숫자는 범위(두번째 숫자 미포함), 마지막 숫자는 increment"
      ],
      "metadata": {
        "id": "yIRADX5OWzgz"
      }
    },
    {
      "cell_type": "code",
      "source": [
        "x = np.arange(0,10,2)\n",
        "print(x)\n",
        "print(type(x))\n",
        "print(x.shape)"
      ],
      "metadata": {
        "id": "qj7VFqfFWwBD"
      },
      "execution_count": null,
      "outputs": []
    },
    {
      "cell_type": "markdown",
      "source": [
        "linspace (linear space)>> 첫 두 숫자는 범위 (두번째 숫자 포함), 마지막 숫자는 등분하여 생성할 숫자 갯수"
      ],
      "metadata": {
        "id": "e9as-IlaX4QM"
      }
    },
    {
      "cell_type": "code",
      "source": [
        "x = np.linspace(0,10,6)\n",
        "print(x)\n",
        "print(type(x))\n",
        "print(x.shape)"
      ],
      "metadata": {
        "id": "hnQbhC_rX0jL"
      },
      "execution_count": null,
      "outputs": []
    },
    {
      "cell_type": "markdown",
      "source": [
        "##2-d array"
      ],
      "metadata": {
        "id": "HbiWtJv3Y2v4"
      }
    },
    {
      "cell_type": "code",
      "source": [
        "x = np.array([[1,2,3], [4,5,6]])\n",
        "print(x)\n",
        "print(type(x))\n",
        "print(x.shape)"
      ],
      "metadata": {
        "id": "_3cKuFI_Y6GP"
      },
      "execution_count": null,
      "outputs": []
    },
    {
      "cell_type": "markdown",
      "source": [
        "##3-d array"
      ],
      "metadata": {
        "id": "Qq7gpFjIZJcn"
      }
    },
    {
      "cell_type": "code",
      "source": [
        "x = np.array([[[1,2,3], [4,5,6]], [[7,8,9], [10,11,12]]])\n",
        "print(x)\n",
        "print(type(x))\n",
        "print(x.shape)"
      ],
      "metadata": {
        "id": "oCgMguzRZAfY"
      },
      "execution_count": null,
      "outputs": []
    },
    {
      "cell_type": "markdown",
      "source": [
        "ones >> 원하는 메트릭스를 만들고, 1로 채우기"
      ],
      "metadata": {
        "id": "ozdu7txYZ0gh"
      }
    },
    {
      "cell_type": "code",
      "source": [
        "x = np.ones([2, 3, 4])\n",
        "print(x)\n",
        "print(type(x))\n",
        "print(x.shape)"
      ],
      "metadata": {
        "id": "lIBKtK9ZZy2J"
      },
      "execution_count": null,
      "outputs": []
    },
    {
      "cell_type": "markdown",
      "source": [
        "zeros >> 원하는 메트리스를 만들고, 0으로 채우기"
      ],
      "metadata": {
        "id": "j7Id6oSNaTYx"
      }
    },
    {
      "cell_type": "code",
      "source": [
        "x = np.zeros([2, 3, 4])\n",
        "print(x)\n",
        "print(type(x))\n",
        "print(x.shape)"
      ],
      "metadata": {
        "id": "xUf_cXcpaAma"
      },
      "execution_count": null,
      "outputs": []
    },
    {
      "cell_type": "markdown",
      "source": [
        "reshape >> 행렬형태 바꾸기"
      ],
      "metadata": {
        "id": "24srgo4wam7C"
      }
    },
    {
      "cell_type": "code",
      "source": [
        "x = np.zeros([2, 3, 4])\n",
        "print(x)\n",
        "x.reshape(4,3,2)"
      ],
      "metadata": {
        "id": "EzhEwEMbagZ6"
      },
      "execution_count": null,
      "outputs": []
    },
    {
      "cell_type": "markdown",
      "source": [
        "#create random numbers"
      ],
      "metadata": {
        "id": "SoGU5C49azkC"
      }
    },
    {
      "cell_type": "markdown",
      "source": [
        "[np.random.normal 함수](https://numpy.org/doc/stable/reference/random/generated/numpy.random.normal.html)"
      ],
      "metadata": {
        "id": "bNV2qTbDbY0e"
      }
    },
    {
      "cell_type": "markdown",
      "source": [
        "1-d array"
      ],
      "metadata": {
        "id": "APMPr8LCPtlt"
      }
    },
    {
      "cell_type": "code",
      "source": [
        "np.random.normal(0, 1, 50)\n"
      ],
      "metadata": {
        "id": "6cNkJJtuPzSy"
      },
      "execution_count": null,
      "outputs": []
    },
    {
      "cell_type": "markdown",
      "source": [
        "2-d array"
      ],
      "metadata": {
        "id": "h77eFU_PP3xl"
      }
    },
    {
      "cell_type": "code",
      "source": [
        "np.random.normal(0, 1, [2,30])\n"
      ],
      "metadata": {
        "id": "rcA5EkWOQGd1"
      },
      "execution_count": null,
      "outputs": []
    },
    {
      "cell_type": "markdown",
      "source": [
        "3-d array"
      ],
      "metadata": {
        "id": "EVzMHlcIQd6e"
      }
    },
    {
      "cell_type": "code",
      "source": [
        "np.random.normal(0, 1, [2,3,4])"
      ],
      "metadata": {
        "id": "OdCzusBMa1Xq"
      },
      "execution_count": null,
      "outputs": []
    },
    {
      "cell_type": "markdown",
      "source": [
        "Plotting"
      ],
      "metadata": {
        "id": "FW8y6lAfQjOn"
      }
    },
    {
      "cell_type": "code",
      "source": [
        "import matplotlib.pyplot as plt"
      ],
      "metadata": {
        "id": "7BYBzMgPbszw"
      },
      "execution_count": null,
      "outputs": []
    },
    {
      "cell_type": "markdown",
      "source": [
        "bins >> 통의 갯수"
      ],
      "metadata": {
        "id": "YTcqdQLsb6uu"
      }
    },
    {
      "cell_type": "code",
      "source": [
        "x = np.random.normal(0, 1, 100)\n",
        "print(x)\n",
        "plt.hist(x, bins=10)"
      ],
      "metadata": {
        "id": "O-fj_5fHbzkN"
      },
      "execution_count": null,
      "outputs": []
    },
    {
      "cell_type": "markdown",
      "source": [
        "#Pandas Package"
      ],
      "metadata": {
        "id": "7-zZxYPNceuW"
      }
    },
    {
      "cell_type": "markdown",
      "source": [
        "##Importing pandas"
      ],
      "metadata": {
        "id": "dbRyqDCAdS7b"
      }
    },
    {
      "cell_type": "code",
      "source": [
        "import pandas as pd"
      ],
      "metadata": {
        "id": "cN0dQZGMcjo7"
      },
      "execution_count": null,
      "outputs": []
    },
    {
      "cell_type": "markdown",
      "source": [
        "##Loading csv file"
      ],
      "metadata": {
        "id": "_oVFv9OedZDo"
      }
    },
    {
      "cell_type": "code",
      "source": [
        "df = pd.read_csv(\"https://download.mlcc.google.com/mledu-datasets/california_housing_train.csv\", sep=\",\")\n",
        "df"
      ],
      "metadata": {
        "id": "ZT26hYUBdNPA"
      },
      "execution_count": null,
      "outputs": []
    },
    {
      "cell_type": "code",
      "source": [
        "print(df.size); print(df.ndim); print(df.shape)"
      ],
      "metadata": {
        "id": "znE6gWcmdipA"
      },
      "execution_count": null,
      "outputs": []
    },
    {
      "cell_type": "code",
      "source": [
        "df.describe()"
      ],
      "metadata": {
        "id": "fnAZb9-4dmW4"
      },
      "execution_count": null,
      "outputs": []
    },
    {
      "cell_type": "markdown",
      "source": [
        "##Saving to CSV"
      ],
      "metadata": {
        "id": "FeMmgl1Lfrv4"
      }
    },
    {
      "cell_type": "code",
      "source": [
        "df.to_csv('california_housing_train.csv')"
      ],
      "metadata": {
        "id": "rpgjqv1iftLV"
      },
      "execution_count": null,
      "outputs": []
    },
    {
      "cell_type": "markdown",
      "source": [
        "##Constructing a DataFrame using dict"
      ],
      "metadata": {
        "id": "CEMFtvIef2zl"
      }
    },
    {
      "cell_type": "code",
      "source": [
        "# Some input data - a small sample of the iris dataset\n",
        "data = {'sepal_length': [6.9, 6.9, 4.8, 5.4, 4.6],\n",
        "        'sepal_width': [3.2, 3.1, 3.4, 3.0, 3.6],\n",
        "        'petal_length': [5.7, 5.1, 1.9, 4.5, 1.0],\n",
        "        'petal_width': [2.3, 2.3, 0.2, 1.5, 0.2],\n",
        "        'species': ['virginica', 'virginica', 'setosa', 'versicolor', 'setosa']}\n",
        "\n",
        "df = pd.DataFrame(data)\n",
        "df"
      ],
      "metadata": {
        "id": "I2PaO02Ff419"
      },
      "execution_count": null,
      "outputs": []
    },
    {
      "cell_type": "markdown",
      "source": [
        "##Constructing a DataFrame using pd.Series"
      ],
      "metadata": {
        "id": "CvT6PU6ugFX2"
      }
    },
    {
      "cell_type": "code",
      "source": [
        "sepal_length = pd.Series([6.9, 6.9, 4.8, 5.4, 4.6])\n",
        "sepal_width = pd.Series([3.2, 3.1, 3.4, 3.0, 3.6])\n",
        "petal_length = pd.Series([5.7, 5.1, 1.9, 4.5, 1.0])\n",
        "petal_width = pd.Series([2.3, 2.3, 0.2, 1.5, 0.2])\n",
        "species = pd.Series(['virginica', 'virginica', 'setosa', 'versicolor', 'setosa'])\n",
        "\n",
        "df = pd.DataFrame({'sepal_length': sepal_length, 'sepal_width': sepal_width, 'petal_length': petal_length, 'petal_width': petal_width, 'SPECIES': species})\n",
        "df"
      ],
      "metadata": {
        "id": "R4z6FeJRgHJ2"
      },
      "execution_count": null,
      "outputs": []
    },
    {
      "cell_type": "markdown",
      "source": [
        "##Changing column names"
      ],
      "metadata": {
        "id": "hj4belFNgRTe"
      }
    },
    {
      "cell_type": "code",
      "source": [
        "# Change the columns\n",
        "df.columns = ['sepal_length', 'sepal_width', 'petal_length', 'petal_width', 'species']\n",
        "df"
      ],
      "metadata": {
        "colab": {
          "base_uri": "https://localhost:8080/",
          "height": 206
        },
        "id": "nUq2PrqKgUA-",
        "outputId": "d45bd566-636a-4f71-e161-e17d7d730d8a"
      },
      "execution_count": null,
      "outputs": [
        {
          "output_type": "execute_result",
          "data": {
            "text/plain": [
              "   sepal_length  sepal_width  petal_length  petal_width     species\n",
              "0           6.9          3.2           5.7          2.3   virginica\n",
              "1           6.9          3.1           5.1          2.3   virginica\n",
              "2           4.8          3.4           1.9          0.2      setosa\n",
              "3           5.4          3.0           4.5          1.5  versicolor\n",
              "4           4.6          3.6           1.0          0.2      setosa"
            ],
            "text/html": [
              "\n",
              "  <div id=\"df-1f8e042f-f2cc-4072-a017-3c5df3dc8361\">\n",
              "    <div class=\"colab-df-container\">\n",
              "      <div>\n",
              "<style scoped>\n",
              "    .dataframe tbody tr th:only-of-type {\n",
              "        vertical-align: middle;\n",
              "    }\n",
              "\n",
              "    .dataframe tbody tr th {\n",
              "        vertical-align: top;\n",
              "    }\n",
              "\n",
              "    .dataframe thead th {\n",
              "        text-align: right;\n",
              "    }\n",
              "</style>\n",
              "<table border=\"1\" class=\"dataframe\">\n",
              "  <thead>\n",
              "    <tr style=\"text-align: right;\">\n",
              "      <th></th>\n",
              "      <th>sepal_length</th>\n",
              "      <th>sepal_width</th>\n",
              "      <th>petal_length</th>\n",
              "      <th>petal_width</th>\n",
              "      <th>species</th>\n",
              "    </tr>\n",
              "  </thead>\n",
              "  <tbody>\n",
              "    <tr>\n",
              "      <th>0</th>\n",
              "      <td>6.9</td>\n",
              "      <td>3.2</td>\n",
              "      <td>5.7</td>\n",
              "      <td>2.3</td>\n",
              "      <td>virginica</td>\n",
              "    </tr>\n",
              "    <tr>\n",
              "      <th>1</th>\n",
              "      <td>6.9</td>\n",
              "      <td>3.1</td>\n",
              "      <td>5.1</td>\n",
              "      <td>2.3</td>\n",
              "      <td>virginica</td>\n",
              "    </tr>\n",
              "    <tr>\n",
              "      <th>2</th>\n",
              "      <td>4.8</td>\n",
              "      <td>3.4</td>\n",
              "      <td>1.9</td>\n",
              "      <td>0.2</td>\n",
              "      <td>setosa</td>\n",
              "    </tr>\n",
              "    <tr>\n",
              "      <th>3</th>\n",
              "      <td>5.4</td>\n",
              "      <td>3.0</td>\n",
              "      <td>4.5</td>\n",
              "      <td>1.5</td>\n",
              "      <td>versicolor</td>\n",
              "    </tr>\n",
              "    <tr>\n",
              "      <th>4</th>\n",
              "      <td>4.6</td>\n",
              "      <td>3.6</td>\n",
              "      <td>1.0</td>\n",
              "      <td>0.2</td>\n",
              "      <td>setosa</td>\n",
              "    </tr>\n",
              "  </tbody>\n",
              "</table>\n",
              "</div>\n",
              "      <button class=\"colab-df-convert\" onclick=\"convertToInteractive('df-1f8e042f-f2cc-4072-a017-3c5df3dc8361')\"\n",
              "              title=\"Convert this dataframe to an interactive table.\"\n",
              "              style=\"display:none;\">\n",
              "        \n",
              "  <svg xmlns=\"http://www.w3.org/2000/svg\" height=\"24px\"viewBox=\"0 0 24 24\"\n",
              "       width=\"24px\">\n",
              "    <path d=\"M0 0h24v24H0V0z\" fill=\"none\"/>\n",
              "    <path d=\"M18.56 5.44l.94 2.06.94-2.06 2.06-.94-2.06-.94-.94-2.06-.94 2.06-2.06.94zm-11 1L8.5 8.5l.94-2.06 2.06-.94-2.06-.94L8.5 2.5l-.94 2.06-2.06.94zm10 10l.94 2.06.94-2.06 2.06-.94-2.06-.94-.94-2.06-.94 2.06-2.06.94z\"/><path d=\"M17.41 7.96l-1.37-1.37c-.4-.4-.92-.59-1.43-.59-.52 0-1.04.2-1.43.59L10.3 9.45l-7.72 7.72c-.78.78-.78 2.05 0 2.83L4 21.41c.39.39.9.59 1.41.59.51 0 1.02-.2 1.41-.59l7.78-7.78 2.81-2.81c.8-.78.8-2.07 0-2.86zM5.41 20L4 18.59l7.72-7.72 1.47 1.35L5.41 20z\"/>\n",
              "  </svg>\n",
              "      </button>\n",
              "      \n",
              "  <style>\n",
              "    .colab-df-container {\n",
              "      display:flex;\n",
              "      flex-wrap:wrap;\n",
              "      gap: 12px;\n",
              "    }\n",
              "\n",
              "    .colab-df-convert {\n",
              "      background-color: #E8F0FE;\n",
              "      border: none;\n",
              "      border-radius: 50%;\n",
              "      cursor: pointer;\n",
              "      display: none;\n",
              "      fill: #1967D2;\n",
              "      height: 32px;\n",
              "      padding: 0 0 0 0;\n",
              "      width: 32px;\n",
              "    }\n",
              "\n",
              "    .colab-df-convert:hover {\n",
              "      background-color: #E2EBFA;\n",
              "      box-shadow: 0px 1px 2px rgba(60, 64, 67, 0.3), 0px 1px 3px 1px rgba(60, 64, 67, 0.15);\n",
              "      fill: #174EA6;\n",
              "    }\n",
              "\n",
              "    [theme=dark] .colab-df-convert {\n",
              "      background-color: #3B4455;\n",
              "      fill: #D2E3FC;\n",
              "    }\n",
              "\n",
              "    [theme=dark] .colab-df-convert:hover {\n",
              "      background-color: #434B5C;\n",
              "      box-shadow: 0px 1px 3px 1px rgba(0, 0, 0, 0.15);\n",
              "      filter: drop-shadow(0px 1px 2px rgba(0, 0, 0, 0.3));\n",
              "      fill: #FFFFFF;\n",
              "    }\n",
              "  </style>\n",
              "\n",
              "      <script>\n",
              "        const buttonEl =\n",
              "          document.querySelector('#df-1f8e042f-f2cc-4072-a017-3c5df3dc8361 button.colab-df-convert');\n",
              "        buttonEl.style.display =\n",
              "          google.colab.kernel.accessAllowed ? 'block' : 'none';\n",
              "\n",
              "        async function convertToInteractive(key) {\n",
              "          const element = document.querySelector('#df-1f8e042f-f2cc-4072-a017-3c5df3dc8361');\n",
              "          const dataTable =\n",
              "            await google.colab.kernel.invokeFunction('convertToInteractive',\n",
              "                                                     [key], {});\n",
              "          if (!dataTable) return;\n",
              "\n",
              "          const docLinkHtml = 'Like what you see? Visit the ' +\n",
              "            '<a target=\"_blank\" href=https://colab.research.google.com/notebooks/data_table.ipynb>data table notebook</a>'\n",
              "            + ' to learn more about interactive tables.';\n",
              "          element.innerHTML = '';\n",
              "          dataTable['output_type'] = 'display_data';\n",
              "          await google.colab.output.renderOutput(dataTable, element);\n",
              "          const docLink = document.createElement('div');\n",
              "          docLink.innerHTML = docLinkHtml;\n",
              "          element.appendChild(docLink);\n",
              "        }\n",
              "      </script>\n",
              "    </div>\n",
              "  </div>\n",
              "  "
            ]
          },
          "metadata": {},
          "execution_count": 25
        }
      ]
    },
    {
      "cell_type": "markdown",
      "source": [
        "##Accessing columns"
      ],
      "metadata": {
        "id": "E-sTbNy_gcwe"
      }
    },
    {
      "cell_type": "code",
      "source": [
        "# Access one column\n",
        "df.loc[:, 'sepal_length']"
      ],
      "metadata": {
        "id": "gguGBrGgge4H"
      },
      "execution_count": null,
      "outputs": []
    },
    {
      "cell_type": "code",
      "source": [
        "# Access one column (short-hand)\n",
        "df['sepal_length']"
      ],
      "metadata": {
        "id": "CqeJnVFUgjLG"
      },
      "execution_count": null,
      "outputs": []
    },
    {
      "cell_type": "code",
      "source": [
        "# Access one column (shortest-hand)\n",
        "df.sepal_length"
      ],
      "metadata": {
        "id": "RbZpy7pFgnhW"
      },
      "execution_count": null,
      "outputs": []
    },
    {
      "cell_type": "code",
      "source": [
        "# Access two columns\n",
        "df.loc[:, ['sepal_length', 'sepal_width']]"
      ],
      "metadata": {
        "id": "jnCOsTe6gqvH"
      },
      "execution_count": null,
      "outputs": []
    },
    {
      "cell_type": "code",
      "source": [
        "# Access two columns (short-hand)\n",
        "df[['sepal_length', 'sepal_width']]"
      ],
      "metadata": {
        "id": "VVa4TMXZgthP"
      },
      "execution_count": null,
      "outputs": []
    },
    {
      "cell_type": "markdown",
      "source": [
        "##Accessing rows"
      ],
      "metadata": {
        "id": "-_sayaSYg7SR"
      }
    },
    {
      "cell_type": "code",
      "source": [
        "# Access one row\n",
        "df.loc[3, :]"
      ],
      "metadata": {
        "id": "ZzT11aKWg9AX"
      },
      "execution_count": null,
      "outputs": []
    },
    {
      "cell_type": "code",
      "source": [
        "# Access two rows\n",
        "df.loc[[3, 0], :]"
      ],
      "metadata": {
        "id": "Knr0bSLphAPX"
      },
      "execution_count": null,
      "outputs": []
    },
    {
      "cell_type": "code",
      "source": [
        "# Access a range of rows\n",
        "df.loc[2:5, :]"
      ],
      "metadata": {
        "id": "8yzU0L4whDwA"
      },
      "execution_count": null,
      "outputs": []
    },
    {
      "cell_type": "code",
      "source": [
        "# Filter keeping only rows with `sepal_length` > 5\n",
        "df[df.sepal_length > 5]"
      ],
      "metadata": {
        "id": "Ftcbeui3hIMh"
      },
      "execution_count": null,
      "outputs": []
    },
    {
      "cell_type": "markdown",
      "source": [
        "##Accessing a cell"
      ],
      "metadata": {
        "id": "M21S2P2vhJfB"
      }
    },
    {
      "cell_type": "code",
      "source": [
        "df.loc[:, 'sepal_length'][4]"
      ],
      "metadata": {
        "id": "43HiLXsvhOJB"
      },
      "execution_count": null,
      "outputs": []
    },
    {
      "cell_type": "code",
      "source": [
        "df['sepal_length'][4]"
      ],
      "metadata": {
        "id": "ZbMWgNFThQuZ"
      },
      "execution_count": null,
      "outputs": []
    },
    {
      "cell_type": "code",
      "source": [
        "df.sepal_length[4]"
      ],
      "metadata": {
        "id": "M2bw8s54hUcQ"
      },
      "execution_count": null,
      "outputs": []
    },
    {
      "cell_type": "markdown",
      "source": [
        "##Adding/Removing new columns"
      ],
      "metadata": {
        "id": "doZJ7784hXh4"
      }
    },
    {
      "cell_type": "code",
      "source": [
        "df['new_column'] = 1\n",
        "df"
      ],
      "metadata": {
        "id": "1ExNIHqAhbMw"
      },
      "execution_count": null,
      "outputs": []
    },
    {
      "cell_type": "code",
      "source": [
        "df['new_column'] = [1, 2, 3, 4, 5]\n",
        "df"
      ],
      "metadata": {
        "id": "6yCZov5mhdZf"
      },
      "execution_count": null,
      "outputs": []
    },
    {
      "cell_type": "code",
      "source": [
        "df = df.drop('new_column', axis=1) # axis=1: column\n",
        "df"
      ],
      "metadata": {
        "id": "WyOK0E9whfaA"
      },
      "execution_count": null,
      "outputs": []
    },
    {
      "cell_type": "markdown",
      "source": [
        "##Adding/Removing new rows"
      ],
      "metadata": {
        "id": "UvJfeA6Uhh3o"
      }
    },
    {
      "cell_type": "code",
      "source": [
        "df.loc[5, :] = ''\n",
        "df"
      ],
      "metadata": {
        "id": "GD0nAIebhk-K"
      },
      "execution_count": null,
      "outputs": []
    },
    {
      "cell_type": "code",
      "source": [
        "df = df.drop(5, axis=0) # axis=0: row\n",
        "df"
      ],
      "metadata": {
        "id": "UfokX0CghnvY"
      },
      "execution_count": null,
      "outputs": []
    }
  ]
}