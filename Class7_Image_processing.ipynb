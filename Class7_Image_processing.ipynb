{
  "nbformat": 4,
  "nbformat_minor": 0,
  "metadata": {
    "colab": {
      "provenance": [],
      "gpuType": "T4",
      "authorship_tag": "ABX9TyP8h1Pfo79BU4Iej2ht+os9",
      "include_colab_link": true
    },
    "kernelspec": {
      "name": "python3",
      "display_name": "Python 3"
    },
    "language_info": {
      "name": "python"
    },
    "accelerator": "GPU"
  },
  "cells": [
    {
      "cell_type": "markdown",
      "metadata": {
        "id": "view-in-github",
        "colab_type": "text"
      },
      "source": [
        "<a href=\"https://colab.research.google.com/github/junkyuhufs/Class2024Spring/blob/main/Class7_Image_processing.ipynb\" target=\"_parent\"><img src=\"https://colab.research.google.com/assets/colab-badge.svg\" alt=\"Open In Colab\"/></a>"
      ]
    },
    {
      "cell_type": "markdown",
      "source": [
        "#Image processing\n",
        "\n",
        "by virtue of Dr. Hosung Nam"
      ],
      "metadata": {
        "id": "BSAVS6hya4e6"
      }
    },
    {
      "cell_type": "markdown",
      "source": [
        "[Understanding RGB](https://www.w3schools.com/html/html_colors_rgb.asp)"
      ],
      "metadata": {
        "id": "NOotTVTtbBO5"
      }
    },
    {
      "cell_type": "code",
      "execution_count": 1,
      "metadata": {
        "id": "28dbHq4xaz4X"
      },
      "outputs": [],
      "source": [
        "import cv2 # openCV (computer vision) package\n",
        "from google.colab.patches import cv2_imshow # substitution for cv2.imshow\n",
        "import matplotlib.pylab as plt"
      ]
    },
    {
      "cell_type": "markdown",
      "source": [
        "OpenCV imread, imwrite and imshow indeed all work with the BGR order, so there is no need to change the order when you read an image with cv2.imread and then want to show it with cv2.imshow. While BGR is used consistently throughout OpenCV, most other image processing libraries use the RGB ordering. If you want to use matplotlib's imshow but read the image with OpenCV, you would need to convert from BGR to RGB."
      ],
      "metadata": {
        "id": "n7jQ70RVbmnB"
      }
    },
    {
      "cell_type": "markdown",
      "source": [
        "##download/save an image from Urls"
      ],
      "metadata": {
        "id": "-JCyxDr8bptK"
      }
    },
    {
      "cell_type": "code",
      "source": [
        "import os\n",
        "url = \"https://raw.githubusercontent.com/junkyuhufs/Class2023Spring/main/tiger.jpg\"\n",
        "os.system(\"curl \" + url + \" > test.jpg\")"
      ],
      "metadata": {
        "id": "OEbZ4Edbbto2"
      },
      "execution_count": null,
      "outputs": []
    },
    {
      "cell_type": "markdown",
      "source": [
        "##display image"
      ],
      "metadata": {
        "id": "IyxeGynucOxS"
      }
    },
    {
      "cell_type": "code",
      "source": [
        "image_bgr = cv2.imread('test.jpg')\n",
        "cv2_imshow(image_bgr)"
      ],
      "metadata": {
        "id": "5xL0zFdJcB77"
      },
      "execution_count": null,
      "outputs": []
    },
    {
      "cell_type": "markdown",
      "source": [
        "##display B, G, R channel"
      ],
      "metadata": {
        "id": "TafftBg7ccEb"
      }
    },
    {
      "cell_type": "code",
      "source": [
        "image_bgr"
      ],
      "metadata": {
        "id": "xwPCeDwZcebb"
      },
      "execution_count": null,
      "outputs": []
    },
    {
      "cell_type": "code",
      "source": [
        "print(type(image_bgr))"
      ],
      "metadata": {
        "id": "3Bp14f2TcipK"
      },
      "execution_count": null,
      "outputs": []
    },
    {
      "cell_type": "code",
      "source": [
        "print(image_bgr.shape) #BRG의 3차원 Matrix확인 가능 (B, G, R 각각 1장씩)"
      ],
      "metadata": {
        "id": "Wv9e2F8icnUU"
      },
      "execution_count": null,
      "outputs": []
    },
    {
      "cell_type": "code",
      "source": [
        "image_b = image_bgr.copy()\n",
        "image_b[:,:,[1,2]] = 0   #(627, 1200, 3) 의 Matrix에서 마지막 3의 2,3번째를 0으로 교체 (Indexing))\n",
        "cv2_imshow(image_b)"
      ],
      "metadata": {
        "id": "O0VPHPTkc71u"
      },
      "execution_count": null,
      "outputs": []
    },
    {
      "cell_type": "code",
      "source": [
        "image_g = image_bgr.copy()\n",
        "image_g[:,:,[0,2]] = 0   #1,3번째 0으로 교체\n",
        "cv2_imshow(image_g)"
      ],
      "metadata": {
        "id": "JP2YFRA7djuH"
      },
      "execution_count": null,
      "outputs": []
    },
    {
      "cell_type": "code",
      "source": [
        "image_r = image_bgr.copy()\n",
        "image_r[:,:,[0,1]] = 0   #1,2번째 0으로 교체\n",
        "cv2_imshow(image_r)"
      ],
      "metadata": {
        "id": "C8xColtHdvbe"
      },
      "execution_count": null,
      "outputs": []
    },
    {
      "cell_type": "code",
      "source": [
        "#반전\n",
        "image_inverse = 255 - image_bgr  #255는 BRG에서 최대값임 (https://www.w3schools.com/html/html_colors_rgb.asp)\n",
        "cv2_imshow(image_inverse)"
      ],
      "metadata": {
        "id": "6HI4-lsmd_EO"
      },
      "execution_count": null,
      "outputs": []
    },
    {
      "cell_type": "code",
      "source": [
        "#gray transformation (흑백이미지로 변환)\n",
        "image_gray = cv2.cvtColor(image_bgr, cv2.COLOR_BGR2GRAY)\n",
        "cv2_imshow(image_gray)"
      ],
      "metadata": {
        "id": "skqzncmdejRH"
      },
      "execution_count": null,
      "outputs": []
    },
    {
      "cell_type": "markdown",
      "source": [
        "##Histogram을 이용하여 BRG에 담긴 각 성분의 숫자 탐색"
      ],
      "metadata": {
        "id": "9HjOIB1JfDlg"
      }
    },
    {
      "cell_type": "code",
      "source": [
        "# Display the histogram of R, G, B channel (그림이 b, g, r중 어떤 성향이 강한지 판단 가능)\n",
        "color = ['b','g','r']\n",
        "for i in range(len(color)):  #len(color)는 'b','g','r'이므로 3; 즉 len(3)과 동일\n",
        "    histr = cv2.calcHist([image_bgr],[i],None,[255],[0,255]) # ([image], [nChannel], mask, [histSize], [range])\n",
        "    plt.plot(histr, color = color[i])\n",
        "    plt.xlim([0,255])"
      ],
      "metadata": {
        "id": "kzk5xAzPfQWU"
      },
      "execution_count": null,
      "outputs": []
    },
    {
      "cell_type": "code",
      "source": [
        "# Display the histogram of all the pixels in the color image (앞선 BRG개별을 합쳐놓은 것; 그림이 밝은 지, 어두운지 판단가능)\n",
        "plt.hist(image_bgr.ravel(), bins = 256, range = [0,256])\n",
        "plt.show()"
      ],
      "metadata": {
        "id": "KBDc86amfw_J"
      },
      "execution_count": null,
      "outputs": []
    }
  ]
}